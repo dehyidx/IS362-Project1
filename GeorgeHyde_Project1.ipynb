{
  "metadata": {
    "kernelspec": {
      "name": "python",
      "display_name": "Python (Pyodide)",
      "language": "python"
    },
    "language_info": {
      "codemirror_mode": {
        "name": "python",
        "version": 3
      },
      "file_extension": ".py",
      "mimetype": "text/x-python",
      "name": "python",
      "nbconvert_exporter": "python",
      "pygments_lexer": "ipython3",
      "version": "3.8"
    }
  },
  "nbformat_minor": 5,
  "nbformat": 4,
  "cells": [
    {
      "id": "3936c2b7",
      "cell_type": "code",
      "source": "import numpy as np\nimport pandas as pd\nfrom pandas import DataFrame, Series\n\n\ndef read_file(file):\n    df = pd.read_csv(file, names=['Los Angeles', 'Phoenix', 'San Diego', 'San Francisco', 'Seattle'], header=0)\n    return df\n\narrivals = read_file('/home/gh23935521/Documents/arrivals.csv')\nprint(arrivals)",
      "metadata": {},
      "outputs": [
        {
          "name": "stdout",
          "output_type": "stream",
          "text": "                  Los Angeles  Phoenix  San Diego  San Francisco  Seattle\n,ALASKA  on time           497      221        212            503     1841\n,        delayed            62       12         20            102      305\n,AM WEST on time           694     4840        383            320      201\n,        delayed           117      415         65            129       61\n"
        }
      ],
      "execution_count": 3
    },
    {
      "id": "dde1c584",
      "cell_type": "markdown",
      "source": "\n",
      "metadata": {}
    },
    {
      "id": "ea3fec31",
      "cell_type": "markdown",
      "source": "# Analysis\n### Alaska\nAlaska has a total of 3,775 flights, 3,274 (87%) of which were on time, and 501 (13%) of which were delayed.\nThe airline has the most activity in Seattle, totaling 2,146 (57%) and the least activity in San Diego, totaling 232 (6%).\n\n### AM West\nAM West has a total of 7,225 flights, nearly double the amount of Alaska. 6,438 (89%) of AM West's flights were on time, while 787 (11%) of them were delayed.\nThe airline has the most activity in Phoenix, totaling 5,255 (73%) and the least activity in Seattle, totaling 262 (4%).\n\n### Conclusion\nAM West is the most consistent airline due to its location. Its on time percentage is 2 higher than Alaska's, and its delay percentage is 2 lower, despite having much more traffic overall. This is due to the airline being located near the west coast, making it geographically more efficient for handling flights in that region such as Los Angeles, Phoenix, and San Diego. In constrast, Alaska has much more flights arriving San Francisco and Seattle, which are Northern cities. The on time percentage for these areas (85.1% and 85.8% respectively) are much higher than AM West's (71.3% and 76.7% respectively). In conclusion, the overall data may suggest that AM West is the better airline, but it does not factor in location as a contingency for timeliness. Therefore, the data provide is not sufficient to make a definite statement on which airline is better.",
      "metadata": {}
    },
    {
      "id": "ad46a9d1",
      "cell_type": "code",
      "source": "",
      "metadata": {},
      "outputs": [],
      "execution_count": null
    },
    {
      "id": "a7b8e696-fe68-4f15-8520-c676cf953c4c",
      "cell_type": "code",
      "source": "",
      "metadata": {
        "trusted": true
      },
      "outputs": [],
      "execution_count": null
    }
  ]
}